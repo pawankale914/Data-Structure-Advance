{
 "cells": [
  {
   "cell_type": "code",
   "execution_count": 1,
   "id": "950bf3f1-71b6-42b8-a168-2d63f6582736",
   "metadata": {},
   "outputs": [
    {
     "name": "stdout",
     "output_type": "stream",
     "text": [
      "dlroW olleH\n"
     ]
    }
   ],
   "source": [
    "#Q1.Write a code to reverse a string\n",
    "#Answer:-\n",
    "s = \"Hello World\"\n",
    "rev = ''.join(reversed(s))\n",
    "print(rev)"
   ]
  },
  {
   "cell_type": "code",
   "execution_count": 2,
   "id": "a697476b-e607-47e9-8486-ac955a66a66d",
   "metadata": {},
   "outputs": [
    {
     "name": "stdout",
     "output_type": "stream",
     "text": [
      "dlrow olleH\n"
     ]
    }
   ],
   "source": [
    "#or\n",
    "s = \"Hello world\"\n",
    "rev = s[::-1]\n",
    "print(rev)"
   ]
  },
  {
   "cell_type": "code",
   "execution_count": 4,
   "id": "b8f3dd80-9db4-4c58-b516-a48d90722187",
   "metadata": {},
   "outputs": [
    {
     "name": "stdout",
     "output_type": "stream",
     "text": [
      "The word  Hello  contains 2 vowels in it\n",
      "The word  World  contains 1 vowels in it\n"
     ]
    }
   ],
   "source": [
    "#Q2. Write a code to count the number of vowels in a  string.\n",
    "#Answer:-\n",
    "import operator as op\n",
    "string = \"Hello World\"\n",
    "wordList = string.split()\n",
    "vowels = 'aeiouAEIOU'\n",
    "for word in wordList:\n",
    "    vowelCount = 0\n",
    "    for i in range(0, len(word)):\n",
    "        if op.countOf(vowels, word[i]) > 0:\n",
    "            vowelCount += 1\n",
    "    print(\"The word \", word, \" contains\", vowelCount, \"vowels in it\")\n"
   ]
  },
  {
   "cell_type": "code",
   "execution_count": 6,
   "id": "33b45de2-940c-43c9-a78f-d5264c392862",
   "metadata": {},
   "outputs": [
    {
     "name": "stdout",
     "output_type": "stream",
     "text": [
      "Yes\n"
     ]
    }
   ],
   "source": [
    "#Q3.Write a code to check if a given string is  pilindrome or not.\n",
    "#Answer:-\n",
    "def isPalindrome(str):\n",
    "    for i in range(0, int(len(str)/2)):\n",
    "        if str[i] != str[len(str)-i-1]:\n",
    "            return False\n",
    "    return True\n",
    "\n",
    "s = \"nayan\"\n",
    "ans = isPalindrome(s)\n",
    "\n",
    "if (ans):\n",
    "    print(\"Yes\")\n",
    "else:\n",
    "    print(\"No\")\n"
   ]
  },
  {
   "cell_type": "code",
   "execution_count": 7,
   "id": "d0acdd74-fae0-4426-b292-a64e82d854c1",
   "metadata": {},
   "outputs": [
    {
     "name": "stdout",
     "output_type": "stream",
     "text": [
      "No\n"
     ]
    }
   ],
   "source": [
    "#or\n",
    "def isPalindrome(str):\n",
    "    for i in range(0, int(len(str)/2)):\n",
    "        if str[i] != str[len(str)-i-1]:\n",
    "            return False\n",
    "    return True\n",
    "\n",
    "s = \"hello\"\n",
    "ans = isPalindrome(s)\n",
    "\n",
    "if (ans):\n",
    "    print(\"Yes\")\n",
    "else:\n",
    "    print(\"No\")"
   ]
  },
  {
   "cell_type": "code",
   "execution_count": 4,
   "id": "f79c5775-df80-4757-9776-b7dcbc2d850f",
   "metadata": {},
   "outputs": [
    {
     "name": "stdout",
     "output_type": "stream",
     "text": [
      "True\n",
      "False\n"
     ]
    }
   ],
   "source": [
    "#Q4.Write a code to check if two given strings are anagrams of each other.\n",
    "#Answer:-\n",
    "def are_anagrams(s1, s2):\n",
    "    return sorted(s1) == sorted(s2)\n",
    "if __name__ == \"__main__\":\n",
    "    str1 = \"listen\"\n",
    "    str2 = \"silent\"\n",
    "\n",
    "    if are_anagrams(str1, str2):\n",
    "        print(\"True\")\n",
    "    else:\n",
    "        print(\"False\")\n",
    "\n",
    "    str1 = \"abc\"\n",
    "    str2 = \"pqr\"\n",
    "\n",
    "    if are_anagrams(str1, str2):\n",
    "        print(\"True\")\n",
    "    else:\n",
    "        print(\"False\")\n"
   ]
  },
  {
   "cell_type": "code",
   "execution_count": 1,
   "id": "0c0b7a57-3d3e-4ab0-8782-319f02c50b65",
   "metadata": {},
   "outputs": [
    {
     "name": "stdout",
     "output_type": "stream",
     "text": [
      "The original string is : hello i am a python coder.\n",
      "The substring to find : a\n",
      "The start indices of occurance of the substrings are : [8, 11]\n"
     ]
    }
   ],
   "source": [
    "#Q5.Write a code to find all occurrences of a given substring within another strings.\n",
    "#Answer:-\n",
    "test_str = \"hello i am a python coder.\"\n",
    " \n",
    "test_sub = \"a\"\n",
    "\n",
    "print(\"The original string is : \" + test_str) \n",
    "\n",
    "print(\"The substring to find : \" + test_sub) \n",
    " \n",
    "res = [i for i in range(len(test_str)) if test_str.startswith(test_sub, i)] \n",
    "\n",
    "print(\"The start indices of occurance of the substrings are : \" + str(res)) \n"
   ]
  },
  {
   "cell_type": "code",
   "execution_count": 2,
   "id": "e2ae84c6-560e-46ff-b033-108d6063efd0",
   "metadata": {},
   "outputs": [
    {
     "name": "stdout",
     "output_type": "stream",
     "text": [
      "ab3a6c2da3b\n"
     ]
    }
   ],
   "source": [
    "#Q6.Write a code to perform basic string compression using the counts of repeated charecters.\n",
    "#Answer:-\n",
    "def solve(s):\n",
    "   res = \"\"\n",
    "   cnt = 1\n",
    "   for i in range(1, len(s)):\n",
    "      if s[i - 1] == s[i]:\n",
    "         cnt += 1\n",
    "      else:\n",
    "         res = res + s[i - 1]\n",
    "         if cnt > 1:\n",
    "            res += str(cnt)\n",
    "         cnt = 1\n",
    "   res = res + s[-1]\n",
    "   if cnt > 1:\n",
    "      res += str(cnt)\n",
    "   return res\n",
    "\n",
    "s = \"abbbaaaaaaccdaaab\"\n",
    "print(solve(s))"
   ]
  },
  {
   "cell_type": "code",
   "execution_count": 3,
   "id": "61a1acf8-9c5b-461e-b945-aa23903e1713",
   "metadata": {},
   "outputs": [
    {
     "name": "stdout",
     "output_type": "stream",
     "text": [
      "The String  GeeksforGeeks  has duplicate characters\n"
     ]
    }
   ],
   "source": [
    "#Q7.write a code to determine if a string has all unique characters.\n",
    "#Answer:-\n",
    "def uniqueCharacters(str):\n",
    "\tfor i in range(len(str)):\n",
    "\t\tfor j in range(i + 1,len(str)): \n",
    "\t\t\tif(str[i] == str[j]):\n",
    "\t\t\t\treturn False\n",
    "\treturn True\n",
    "\n",
    "str = \"GeeksforGeeks\";\n",
    "\n",
    "if(uniqueCharacters(str)):\n",
    "\tprint(\"The String \", str,\" has all unique characters\");\n",
    "else:\n",
    "\tprint(\"The String \", str, \" has duplicate characters\");\n",
    "\n"
   ]
  },
  {
   "cell_type": "code",
   "execution_count": 6,
   "id": "88f9c911-c63e-4816-a0bf-45ab08afec80",
   "metadata": {},
   "outputs": [
    {
     "name": "stdout",
     "output_type": "stream",
     "text": [
      "hello world\n",
      "HELLO WORLD\n"
     ]
    }
   ],
   "source": [
    "#Q8.Write a code to convert a given string to uppercase or lowercase.\n",
    "#Answer:-\n",
    "str_input = \"Hello World\"\n",
    "\n",
    "lower = \"\"\n",
    "upper = \"\"\n",
    "\n",
    "for char in str_input:\n",
    "    lower += char.lower()\n",
    "    upper += char.upper()\n",
    "\n",
    "print(lower)\n",
    "print(upper)"
   ]
  },
  {
   "cell_type": "code",
   "execution_count": 8,
   "id": "f9632fc7-cb63-442a-968c-8c2b71728251",
   "metadata": {},
   "outputs": [
    {
     "name": "stdout",
     "output_type": "stream",
     "text": [
      "No of words :  2\n"
     ]
    }
   ],
   "source": [
    "#Q9.Write a code to count the number of words in a string.\n",
    "#Answer:-\n",
    "def countWords(s):\n",
    "\n",
    "    if s.strip() == \"\":\n",
    "        return 0\n",
    "\n",
    "    words = s.split()\n",
    "\n",
    "    return len(words)\n",
    "\n",
    "\n",
    "if __name__ == \"__main__\":\n",
    "    s = \"Hello World\"\n",
    "    print(\"No of words : \", countWords(s))"
   ]
  },
  {
   "cell_type": "code",
   "execution_count": 11,
   "id": "a245409f-3181-4855-906b-e8dc37a9cabe",
   "metadata": {},
   "outputs": [
    {
     "name": "stdout",
     "output_type": "stream",
     "text": [
      "Hello World\n"
     ]
    }
   ],
   "source": [
    "#Q10.Write a code to concatenate two strings without using the + operator.\n",
    "#Answer:-\n",
    "var1 = \"Hello\"\n",
    "var2 = \"World\"\n",
    "\n",
    "var3 = \" \".join([var1, var2])\n",
    "\n",
    "print(var3)"
   ]
  },
  {
   "cell_type": "code",
   "execution_count": 15,
   "id": "45826c99-7795-4a31-b520-38f670bde9bb",
   "metadata": {},
   "outputs": [
    {
     "name": "stdout",
     "output_type": "stream",
     "text": [
      "The original list is : [1, 3, 4, 6, 5, 1]\n",
      "The list after performing the remove operation is : [3, 4, 6, 5]\n"
     ]
    }
   ],
   "source": [
    "#Q11.Write a code to remove all occurrences of a specific element from a lists.\n",
    "#Answer:-\n",
    "def remove_items(test_list, item): \n",
    "\n",
    "\tres = [i for i in test_list if i != item] \n",
    "\treturn res \n",
    "\n",
    "if __name__ == \"__main__\": \n",
    "\ttest_list = [1, 3, 4, 6, 5, 1] \n",
    "\titem = 1\n",
    "\tprint(\"The original list is : \" + str(test_list)) \n",
    "\n",
    "\tres = remove_items(test_list, item) \n",
    "    \n",
    "\tprint(\"The list after performing the remove operation is : \" + str(res)) \n"
   ]
  },
  {
   "cell_type": "code",
   "execution_count": 16,
   "id": "ea4a01e9-5c41-4811-afd4-c5a470bc6977",
   "metadata": {},
   "outputs": [
    {
     "name": "stdout",
     "output_type": "stream",
     "text": [
      "Second maximum number is  139\n"
     ]
    }
   ],
   "source": [
    "#Q12.Implement a code to find the second largest number in a given list of integers.\n",
    "#Answer:-\n",
    "data = [55, 1, 45, 68, 159, 75, 5, 14, 139]\n",
    "\n",
    "\n",
    "def find_second_maximum(list1):\n",
    "    first_max = max(list1[0], list1[1])\n",
    "    second_max = min(list1[0], list1[1])\n",
    "    for i in range(2, len(list1)):\n",
    "        if list1[i] > first_max:\n",
    "            second_max = first_max\n",
    "            first_max = list1[i]\n",
    "\n",
    "        elif list1[i] > second_max and first_max != list1[i]:\n",
    "            second_max = list1[i]\n",
    "    return second_max\n",
    "\n",
    "\n",
    "print(\"Second maximum number is \", find_second_maximum(data))"
   ]
  },
  {
   "cell_type": "code",
   "execution_count": 17,
   "id": "3d1ffeb3-9a4a-4414-a18f-b0e45feac6e2",
   "metadata": {},
   "outputs": [
    {
     "name": "stdout",
     "output_type": "stream",
     "text": [
      "{1: 3, 2: 4, 3: 2, 4: 2, 5: 1}\n"
     ]
    }
   ],
   "source": [
    "#Q13.Create a code to count the occurrences of each element in a list and return a distionary with elements as keys and their counts as values.\n",
    "#Answer:-\n",
    "def count_elements(lst):\n",
    "    count_dict = {}\n",
    "    for element in lst:\n",
    "        if element in count_dict:\n",
    "            count_dict[element] += 1\n",
    "        else:\n",
    "            count_dict[element] = 1\n",
    "    return count_dict\n",
    "\n",
    "my_list = [1, 2, 3, 1, 2, 1, 3, 4, 5, 4, 2, 2]\n",
    "result = count_elements(my_list)\n",
    "print(result)"
   ]
  },
  {
   "cell_type": "code",
   "execution_count": 18,
   "id": "651b0d64-dfd8-4a06-9bd1-43c10c336de6",
   "metadata": {},
   "outputs": [
    {
     "name": "stdout",
     "output_type": "stream",
     "text": [
      "[5, 4, 3, 2, 1]\n"
     ]
    }
   ],
   "source": [
    "#Q14.Write a code to reverse a list in-place without using an built-in reverse functions.\n",
    "#Answer:-\n",
    "a = [1, 2, 3, 4, 5]\n",
    "a.reverse()\n",
    "print(a)"
   ]
  },
  {
   "cell_type": "code",
   "execution_count": 3,
   "id": "94af5d93-7e5b-47ee-928b-bd9198b53dce",
   "metadata": {},
   "outputs": [
    {
     "name": "stdout",
     "output_type": "stream",
     "text": [
      "[1, 2, 3, 4, 5]\n"
     ]
    }
   ],
   "source": [
    "#Q15.Implement a code to find and remove duplicates from a list while preserving the original order of elements.\n",
    "#Answer:-\n",
    "ints = [4, 3, 5, 4, 2, 1, 3]\n",
    " \n",
    "ints[:] = list(set(ints))\n",
    "print(ints)"
   ]
  },
  {
   "cell_type": "code",
   "execution_count": 9,
   "id": "6e59de11-8daf-445c-8de9-d1b8c8049341",
   "metadata": {},
   "outputs": [
    {
     "name": "stdout",
     "output_type": "stream",
     "text": [
      "True\n",
      "False\n",
      "The list is sorted in ascending order\n"
     ]
    }
   ],
   "source": [
    "#Q16.Create a code to check if a given list is sorted (either in ascending or descending order) or not.\n",
    "#Answer:-\n",
    "def is_sorted_ascending(lst):\n",
    "    return all(\n",
    "        lst[index] <= lst[index+1]\n",
    "        for index in range(len(lst) - 1)\n",
    "    )\n",
    "\n",
    "\n",
    "list_1 = [1, 2, 3, 4, 5]\n",
    "print(is_sorted_ascending(list_1)) \n",
    "\n",
    "list_2 = [5, 4, 3, 2, 1]\n",
    "print(is_sorted_ascending(list_2)) \n",
    "\n",
    "if is_sorted_ascending(list_1):\n",
    "    print('The list is sorted in ascending order')\n",
    "else:\n",
    "    print('The list is not sorted in ascending order')\n"
   ]
  },
  {
   "cell_type": "code",
   "execution_count": 10,
   "id": "f513a3df-d302-493c-b5b6-4d7206c0fa09",
   "metadata": {},
   "outputs": [
    {
     "name": "stdout",
     "output_type": "stream",
     "text": [
      "The original list 1 is : [1, 5, 6, 9, 11]\n",
      "The original list 2 is : [3, 4, 7, 8, 10]\n",
      "The combined sorted list is : [1, 3, 4, 5, 6, 7, 8, 9, 10, 11]\n"
     ]
    }
   ],
   "source": [
    "#Q17.Write a code to merge two sorted lists into a single sorted list.\n",
    "#Answer:-\n",
    "\n",
    "test_list1 = [1, 5, 6, 9, 11]\n",
    "test_list2 = [3, 4, 7, 8, 10]\n",
    "\n",
    "print(\"The original list 1 is : \" + str(test_list1))\n",
    "print(\"The original list 2 is : \" + str(test_list2))\n",
    "\n",
    "test_list1.extend(test_list2)\n",
    "test_list1.sort()\n",
    "\n",
    "print(\"The combined sorted list is : \" + str(test_list1))\n"
   ]
  },
  {
   "cell_type": "code",
   "execution_count": 11,
   "id": "49d2c01d-ae31-4dde-9a41-62508859dca7",
   "metadata": {},
   "outputs": [
    {
     "name": "stdout",
     "output_type": "stream",
     "text": [
      "[9, 11, 26, 28]\n"
     ]
    }
   ],
   "source": [
    "#Q18.Implement a code to find the intersection of two given list.\n",
    "#Answer:-\n",
    "def intersection(lst1, lst2):\n",
    "    lst3 = [value for value in lst1 if value in lst2]\n",
    "    return lst3\n",
    "\n",
    "lst1 = [4, 9, 1, 17, 11, 26, 28, 54, 69]\n",
    "lst2 = [9, 9, 74, 21, 45, 11, 63, 28, 26]\n",
    "print(intersection(lst1, lst2))\n"
   ]
  },
  {
   "cell_type": "code",
   "execution_count": 12,
   "id": "60a7c41e-fed4-4c8f-a566-4f67ee7b8376",
   "metadata": {},
   "outputs": [
    {
     "name": "stdout",
     "output_type": "stream",
     "text": [
      "[32, 2, 12, 14, 15, 16, 48, 47, 20, 52, 54, 23, 26]\n"
     ]
    }
   ],
   "source": [
    "#Q19.Create a code to find the union of two lists without duplicates.\n",
    "#Answer:-\n",
    "\n",
    "def Union(lst1, lst2):\n",
    "\tfinal_list = list(set(lst1) | set(lst2))\n",
    "\treturn final_list\n",
    "\n",
    "lst1 = [23, 15, 2, 14, 14, 16, 20 ,52]\n",
    "lst2 = [2, 48, 15, 12, 26, 32, 47, 54]\n",
    "print(Union(lst1, lst2))\n"
   ]
  },
  {
   "cell_type": "code",
   "execution_count": 15,
   "id": "481fb3ec-6587-4e68-af19-2fa4c229005d",
   "metadata": {},
   "outputs": [
    {
     "name": "stdout",
     "output_type": "stream",
     "text": [
      "The original list is : [1, 4, 5, 6, 3]\n",
      "The shuffled list is : [4, 6, 1, 3, 5]\n"
     ]
    }
   ],
   "source": [
    "#Q20.Write a code to shuffle a given list randomly without using in built-in shuffle functions.\n",
    "#Answer:-\n",
    "import random\n",
    "\n",
    "test_list = [1, 4, 5, 6, 3]\n",
    "\n",
    "print(\"The original list is : \" + str(test_list))\n",
    "\n",
    "\n",
    "for i in range(len(test_list)-1, 0, -1):\n",
    "\n",
    "\tj = random.randint(0, i + 1)\n",
    "\n",
    "\ttest_list[i], test_list[j] = test_list[j], test_list[i]\n",
    "\n",
    "print(\"The shuffled list is : \" + str(test_list))\n"
   ]
  },
  {
   "cell_type": "code",
   "execution_count": 1,
   "id": "ea4bdcfd-cc4f-40a9-ac8d-9c71798f2857",
   "metadata": {},
   "outputs": [
    {
     "name": "stdin",
     "output_type": "stream",
     "text": [
      "Enter Values:  123\n",
      "Enter Values:  46\n"
     ]
    },
    {
     "name": "stdout",
     "output_type": "stream",
     "text": [
      "The original tuple 1 : ('1', '2', '3')\n",
      "The original tuple 2 : ('4', '6')\n",
      "The tuple after concatenation is : ('1', '2', '3', '4', '6')\n"
     ]
    }
   ],
   "source": [
    "#Q21.Write a code that takes two tuples as input and returns a new tuple containing elements that are common to both input tuples.\n",
    "#Answer:-\n",
    "test_tup1 = tuple(input('Enter Values: '))\n",
    "test_tup2 = tuple(input('Enter Values: '))\n",
    "\n",
    "print(\"The original tuple 1 : \" + str(test_tup1))\n",
    "print(\"The original tuple 2 : \" + str(test_tup2))\n",
    "\n",
    "res = test_tup1 + test_tup2\n",
    "\n",
    "print(\"The tuple after concatenation is : \" + str(res))\n"
   ]
  },
  {
   "cell_type": "code",
   "execution_count": 11,
   "id": "669fe3d0-6bb4-4727-9955-db846dd9df27",
   "metadata": {},
   "outputs": [
    {
     "name": "stdin",
     "output_type": "stream",
     "text": [
      "Enter the first set of integers, separated by commas:  345\n",
      "Enter the first set of integers, separated by commas:  456\n"
     ]
    },
    {
     "name": "stdout",
     "output_type": "stream",
     "text": [
      "Intersection : set()\n"
     ]
    }
   ],
   "source": [
    "#Q22.Create a code that prompts the user to enter two sets of integers seperated by commas. Then,print the intersection of these two sets\n",
    "#Answer:-\n",
    "lst1 = input(\"Enter the first set of integers, separated by commas: \")\n",
    "lst1 = lst1.split (\",\")\n",
    "set1 = set(int(i) for i in lst1 )\n",
    "\n",
    "lst2 = input(\"Enter the first set of integers, separated by commas: \")\n",
    "lst2 = lst2.split (\",\")\n",
    "set2 = set(int(i) for i in lst2 )\n",
    "\n",
    "c_members = set1.intersection(set2)\n",
    "print(\"Intersection :\", c_members)\n"
   ]
  },
  {
   "cell_type": "code",
   "execution_count": 9,
   "id": "5b7faf19-46b2-4f03-b5d2-34775b2563a8",
   "metadata": {},
   "outputs": [
    {
     "name": "stdout",
     "output_type": "stream",
     "text": [
      "(1, 2, 3, 5, 7, 8)\n"
     ]
    }
   ],
   "source": [
    "#Q23. Write a code to concatenate two tuples. The function should take two tuples as input and return a new tuple containing elements from both input tuples.\n",
    "#Answer:-\n",
    "def concatenate_tuples (tuple_1,tuple_2):\n",
    "    return (tuple_1 + tuple_2)\n",
    "\n",
    "tuple_1 = (1,2,3)\n",
    "tuple_2 = (5,7,8)\n",
    "tuple_3 = concatenate_tuples(tuple_1, tuple_2)\n",
    "print (tuple_3)\n"
   ]
  },
  {
   "cell_type": "code",
   "execution_count": 8,
   "id": "780ca86e-60d0-4f5f-bd23-3af9a009ca58",
   "metadata": {},
   "outputs": [
    {
     "name": "stdin",
     "output_type": "stream",
     "text": [
      "Enter set of String_1 separated by spaces:  123\n",
      "Enter set of string_2 separated by spaces:  567\n"
     ]
    },
    {
     "name": "stdout",
     "output_type": "stream",
     "text": [
      "Elemnets present in str1 but not in str2 {'123'}\n"
     ]
    }
   ],
   "source": [
    "#Q24. Develop a code that prompts a user to input two sets of strings. Then print the elements that are present in the first set but not in the second set.\n",
    "#Answer:-\n",
    "str1 = input (\"Enter set of String_1 separated by spaces: \")\n",
    "set1 = set(str1.split())\n",
    "\n",
    "str2 = input (\"Enter set of string_2 separated by spaces: \")\n",
    "set2 = set(str2.split())\n",
    "\n",
    "set3 = set1 - set2\n",
    "\n",
    "print (\"Elemnets present in str1 but not in str2\", set3)"
   ]
  },
  {
   "cell_type": "code",
   "execution_count": 7,
   "id": "4ab11332-9a66-4aa8-bb50-1adfb458312e",
   "metadata": {},
   "outputs": [
    {
     "name": "stdout",
     "output_type": "stream",
     "text": [
      "Sliced tuple: (300, 409, 507)\n"
     ]
    }
   ],
   "source": [
    "#Q25. Create a code that takes a tuple and two integers as input. The function should return a new tuple containing elements from the original tuple within the specified range of indices.\n",
    "#Answer:-\n",
    "def slice_tuple(input_tuple, start_index, end_index):\n",
    "    return input_tuple[start_index:end_index]\n",
    "\n",
    "input_tuple = (10, 260, 300, 409, 507, 605, 70)\n",
    "start_index = 2\n",
    "end_index = 5\n",
    "result = slice_tuple(input_tuple, start_index, end_index)\n",
    "\n",
    "print(\"Sliced tuple:\", result)"
   ]
  },
  {
   "cell_type": "code",
   "execution_count": 10,
   "id": "c7d5bfac-3973-4b5b-8cc7-30de31d32938",
   "metadata": {},
   "outputs": [
    {
     "name": "stdin",
     "output_type": "stream",
     "text": [
      "Enter set of characters separated by spaces:  123\n",
      "Enter set of characters separated by spaces:  456\n"
     ]
    },
    {
     "name": "stdout",
     "output_type": "stream",
     "text": [
      "Union of Set1 and set2:  {'456', '123'}\n"
     ]
    }
   ],
   "source": [
    "#Q26.Write a code that prompts the user to input two sets of characters. Then, print the union of these two sets.\n",
    "#Answer:-\n",
    "set1 = set(input (\"Enter set of characters separated by spaces: \").split())\n",
    "\n",
    "set2 = set(input (\"Enter set of characters separated by spaces: \").split())\n",
    "\n",
    "union_set = set1.union(set2)\n",
    "print (\"Union of Set1 and set2: \", union_set)\n"
   ]
  },
  {
   "cell_type": "code",
   "execution_count": 11,
   "id": "452d3dbe-95b8-4c2c-876f-2f77ce3321bd",
   "metadata": {},
   "outputs": [
    {
     "data": {
      "text/plain": [
       "(90, 5)"
      ]
     },
     "execution_count": 11,
     "metadata": {},
     "output_type": "execute_result"
    }
   ],
   "source": [
    "#Q27. Develope a code that takes a tuple of integers as input. The function should return the maximum and minimum values from the tuple using tuple unpacking\n",
    "#Answer:-\n",
    "def find_max_min(numbers):\n",
    "    max_val, min_val = max(numbers), min(numbers)\n",
    "    return max_val, min_val\n",
    "\n",
    "numbers = (10, 5, 90, 60,26)\n",
    "find_max_min(numbers)\n"
   ]
  },
  {
   "cell_type": "code",
   "execution_count": 13,
   "id": "75c8057f-9d37-447b-9719-de7e7a92c1e7",
   "metadata": {},
   "outputs": [
    {
     "name": "stdout",
     "output_type": "stream",
     "text": [
      "union of s1 and s2: {1, 2, 3, 4, 5, 6}\n",
      "Intersection of s1 and s2: {4, 6}\n",
      "Difference of s1 and s2: {1, 2, 3}\n"
     ]
    }
   ],
   "source": [
    "#Q28. create a code that defines two sets of integers. Then find the union, intersection and difference of these two sets.\n",
    "#Answer:-\n",
    "s1= {1, 2, 4, 3,6}\n",
    "s2= {5, 6, 4, 6}\n",
    "union_set = s1.union(s2)\n",
    "intersection_set = s1.intersection(s2)\n",
    "Difference_set = s1.difference(s2)\n",
    "print(\"union of s1 and s2:\", union_set)\n",
    "print(\"Intersection of s1 and s2:\", intersection_set)\n",
    "print (\"Difference of s1 and s2:\", Difference_set)"
   ]
  },
  {
   "cell_type": "code",
   "execution_count": 14,
   "id": "76730aa3-267c-4681-bbf5-f299f16b3e15",
   "metadata": {},
   "outputs": [
    {
     "name": "stdin",
     "output_type": "stream",
     "text": [
      "Enter any element from the given tuple:  78\n"
     ]
    },
    {
     "name": "stdout",
     "output_type": "stream",
     "text": [
      "3\n"
     ]
    }
   ],
   "source": [
    "#Q29.Write a code that takes a tuple and an integer as input. The function should return the count of occurance of the given elemnet in the tuple.\n",
    "#Answer:-\n",
    "def count_occurance(tuple1, element):\n",
    "  return tuple1.count(element)\n",
    "\n",
    "tuple1 = (109,34,65,78,32,(-3+5j),78,34,32,78,1098)\n",
    "element = int(input(\"Enter any element from the given tuple: \"))\n",
    "\n",
    "occurances = count_occurance(tuple1, element)\n",
    "print(occurances)\n"
   ]
  },
  {
   "cell_type": "code",
   "execution_count": 15,
   "id": "fe64cf28-9f6b-4018-8756-847bdd9f4a75",
   "metadata": {},
   "outputs": [
    {
     "name": "stdin",
     "output_type": "stream",
     "text": [
      "Enter the first set of strings,separated by commas:  123\n",
      "Enter the second set of strings,separated by commas:  234\n"
     ]
    },
    {
     "name": "stdout",
     "output_type": "stream",
     "text": [
      "The symmetric difference between the two sets is: {'234', '123'}\n"
     ]
    }
   ],
   "source": [
    "#30.Develope a code that prompts the user to input two sets of strings. Then print the symmetric difference of these two sets.\n",
    "#Answer:-\n",
    "set1_input = input(\"Enter the first set of strings,separated by commas: \")\n",
    "set1 = set(set1_input.split(','))\n",
    "\n",
    "set2_input = input(\"Enter the second set of strings,separated by commas: \")\n",
    "set2 = set(set2_input.split(','))\n",
    "\n",
    "symmetric_diff = set1.symmetric_difference(set2)\n",
    "print(\"The symmetric difference between the two sets is:\", symmetric_diff)"
   ]
  },
  {
   "cell_type": "code",
   "execution_count": 18,
   "id": "2ee31845-0740-4c61-a08d-cc91edaebd45",
   "metadata": {},
   "outputs": [
    {
     "name": "stdin",
     "output_type": "stream",
     "text": [
      "Enter a list of words separated by spaces:  abc  pqr xyz\n"
     ]
    },
    {
     "name": "stdout",
     "output_type": "stream",
     "text": [
      "Word Frequencies: {'abc': 1, 'pqr': 1, 'xyz': 1}\n"
     ]
    }
   ],
   "source": [
    "#31. Write a code that takes a list of words as input and returns a dictionary where the keys are unique words and the values are the frequencies of those words in the input list.\n",
    "#Answer:-\n",
    "words = input(\"Enter a list of words separated by spaces: \").split()\n",
    "\n",
    "word_frequency = {}\n",
    "\n",
    "for word in words:\n",
    "    if word in word_frequency:\n",
    "        word_frequency[word] += 1\n",
    "    else:\n",
    "        word_frequency[word] = 1\n",
    "\n",
    "print(\"Word Frequencies:\", word_frequency)\n"
   ]
  },
  {
   "cell_type": "code",
   "execution_count": 23,
   "id": "9b4a9980-d3df-4337-a8a9-3b521fd9c59c",
   "metadata": {},
   "outputs": [
    {
     "name": "stdin",
     "output_type": "stream",
     "text": [
      "Enter the first dictionary (format: key1:value1, key2:value2):  Apple:4, Mango:4\n",
      "Enter the second dictionary (format: key1:value1, key2:value2):   Apple:3, Banana:2\n"
     ]
    },
    {
     "name": "stdout",
     "output_type": "stream",
     "text": [
      "Merged Dictionary: {'Apple': 7, 'Mango': 4, 'Banana': 2}\n"
     ]
    }
   ],
   "source": [
    "#32.Write a code that takes two dictionaries as input and merges them into a single dictionary. If there are common keys, the vales should be added together.\n",
    "#Answer:-\n",
    "input1 = input(\"Enter the first dictionary (format: key1:value1, key2:value2): \")\n",
    "input2 = input(\"Enter the second dictionary (format: key1:value1, key2:value2): \")\n",
    "\n",
    "dict1 = {}\n",
    "for pair in input1.split(\",\"):\n",
    "    key, value = pair.split(\":\")\n",
    "    dict1[key.strip()] = int(value.strip())\n",
    "\n",
    "dict2 = {}\n",
    "for pair in input2.split(\",\"):\n",
    "    key, value = pair.split(\":\")\n",
    "    dict2[key.strip()] = int(value.strip())\n",
    "\n",
    "merged_dict = dict1.copy()\n",
    "\n",
    "for key, value in dict2.items():\n",
    "    if key in merged_dict:\n",
    "        merged_dict[key] += value\n",
    "    else:\n",
    "        merged_dict[key] = value\n",
    "\n",
    "print(\"Merged Dictionary:\", merged_dict)\n"
   ]
  },
  {
   "cell_type": "code",
   "execution_count": 25,
   "id": "35284fbf-2e27-4d0a-acb1-d7bcd13a9ed1",
   "metadata": {},
   "outputs": [
    {
     "name": "stdout",
     "output_type": "stream",
     "text": [
      "value\n",
      "None\n"
     ]
    }
   ],
   "source": [
    "#33.Write a code to access a value in a nested dictionary. The function should take the dictionary and a list of keys as input, and return the corresponding value. If any of the keys do not exist in the dictionary, the function should return None.\n",
    "#Answer:-\n",
    "def get_nested_value(d, keys):\n",
    "    for key in keys:\n",
    "        if isinstance(d, dict) and key in d:\n",
    "            d = d[key]\n",
    "        else:\n",
    "            return None\n",
    "    return d\n",
    "\n",
    "nested_dict = {'a': {'b': {'c': 'value'}}}\n",
    "\n",
    "keys = ['a', 'b', 'c']\n",
    "print(get_nested_value(nested_dict, keys))\n",
    "\n",
    "keys = ['a', 'b', 'd']\n",
    "print(get_nested_value(nested_dict, keys))\n"
   ]
  },
  {
   "cell_type": "code",
   "execution_count": 26,
   "id": "6e8af9f2-23d3-4f54-b26c-dd753381b013",
   "metadata": {},
   "outputs": [
    {
     "name": "stdout",
     "output_type": "stream",
     "text": [
      "Sorted dictionary in ascending order: {'banana': 1, 'cherry': 2, 'apple': 3, 'elderberry': 4, 'date': 5}\n",
      "Sorted dictionary in descending order: {'date': 5, 'elderberry': 4, 'apple': 3, 'cherry': 2, 'banana': 1}\n"
     ]
    }
   ],
   "source": [
    "#Q34. Write a code that takes a dictionary as input and returns a sorted version of it based on the values. You can choose whether to sort in ascending or descending order.\n",
    "#Answer:-\n",
    "dict_input = {'apple': 3, 'banana': 1, 'cherry': 2, 'date': 5, 'elderberry': 4}\n",
    "sorted_dict_asc = dict(sorted(dict_input.items(), key=lambda item: item[1]))\n",
    "print(\"Sorted dictionary in ascending order:\", sorted_dict_asc)\n",
    "sorted_dict_desc = dict(sorted(dict_input.items(), key=lambda item: item[1], reverse=True))\n",
    "print(\"Sorted dictionary in descending order:\", sorted_dict_desc)\n"
   ]
  },
  {
   "cell_type": "code",
   "execution_count": 27,
   "id": "0aff986b-dfb5-45a9-a6e0-bf2164a6d4bb",
   "metadata": {},
   "outputs": [
    {
     "name": "stdout",
     "output_type": "stream",
     "text": [
      "Original dictionary: {'a': 1, 'b': 2, 'c': 1, 'd': 3, 'e': 2}\n",
      "Inverted dictionary: {1: ['a', 'c'], 2: ['b', 'e'], 3: ['d']}\n"
     ]
    }
   ],
   "source": [
    "#Q35.Write a code that inverts a dictionary, swapping keys and values. Ensure that the inverted dictionary correctly handles cases where multiple keys have the same value by storing the keys as a list in the inverted dictionary.\n",
    "#Answer:-\n",
    "original_dict = {\n",
    "    'a': 1,\n",
    "    'b': 2,\n",
    "    'c': 1,\n",
    "    'd': 3,\n",
    "    'e': 2\n",
    "}\n",
    "inverted_dict = {}\n",
    "for key, value in original_dict.items():\n",
    "    if value not in inverted_dict:\n",
    "        inverted_dict[value] = [key]\n",
    "    else:\n",
    "        inverted_dict[value].append(key)\n",
    "\n",
    "print(\"Original dictionary:\", original_dict)\n",
    "print(\"Inverted dictionary:\", inverted_dict)"
   ]
  },
  {
   "cell_type": "code",
   "execution_count": null,
   "id": "fe410677-7fb8-4101-b6bf-484e17dd9d08",
   "metadata": {},
   "outputs": [],
   "source": []
  }
 ],
 "metadata": {
  "kernelspec": {
   "display_name": "Python 3 (ipykernel)",
   "language": "python",
   "name": "python3"
  },
  "language_info": {
   "codemirror_mode": {
    "name": "ipython",
    "version": 3
   },
   "file_extension": ".py",
   "mimetype": "text/x-python",
   "name": "python",
   "nbconvert_exporter": "python",
   "pygments_lexer": "ipython3",
   "version": "3.12.4"
  }
 },
 "nbformat": 4,
 "nbformat_minor": 5
}
